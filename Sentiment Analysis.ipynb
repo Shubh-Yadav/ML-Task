{
 "cells": [
  {
   "cell_type": "code",
   "execution_count": 125,
   "metadata": {},
   "outputs": [],
   "source": [
    "#Importing various libraries and modules\n",
    "import numpy as np\n",
    "import pandas as pd\n",
    "from sklearn import metrics\n",
    "from sklearn.model_selection import train_test_split\n",
    "from sklearn.feature_extraction.text import CountVectorizer\n",
    "from sklearn.feature_extraction.text import TfidfVectorizer\n"
   ]
  },
  {
   "cell_type": "code",
   "execution_count": 126,
   "metadata": {},
   "outputs": [],
   "source": [
    "from sklearn.svm import LinearSVC\n",
    "from sklearn.naive_bayes import MultinomialNB\n",
    "from sklearn.linear_model import LogisticRegression\n",
    "from sklearn.neighbors import KNeighborsClassifier\n",
    "from keras.preprocessing.sequence import pad_sequences\n",
    "import warnings\n",
    "warnings.filterwarnings('ignore')"
   ]
  },
  {
   "cell_type": "code",
   "execution_count": 127,
   "metadata": {},
   "outputs": [
    {
     "name": "stdout",
     "output_type": "stream",
     "text": [
      "                       REVIEW  Label\n",
      "0                   Nice view      1\n",
      "1           Excellent Service      1\n",
      "2                  Beautiful       1\n",
      "3  About food and hospitality      1\n",
      "4                Good service      1\n"
     ]
    }
   ],
   "source": [
    "from numpy.random import seed\n",
    "seed(1)\n",
    "from tensorflow import set_random_seed\n",
    "set_random_seed(2)\n",
    "from numpy.random import seed\n",
    "seed(1)\n",
    "from tensorflow import set_random_seed\n",
    "set_random_seed(2)\n",
    "colnames=['REVIEW','Label'] \n",
    "df= pd.read_csv('dataset.csv', names=colnames, header=None)\n",
    "print(df.head())\n",
    "X=df['REVIEW']\n",
    "y=df['Label']\n",
    "X.isnull()\n",
    "df['Label'] = df['Label'].apply(np.int64)"
   ]
  },
  {
   "cell_type": "code",
   "execution_count": 128,
   "metadata": {},
   "outputs": [],
   "source": [
    "from sklearn.model_selection import train_test_split"
   ]
  },
  {
   "cell_type": "code",
   "execution_count": 129,
   "metadata": {},
   "outputs": [],
   "source": [
    "X_train,X_test,y_train,y_test=train_test_split(X,y,test_size=0.3,random_state=42)"
   ]
  },
  {
   "cell_type": "markdown",
   "metadata": {},
   "source": [
    "# Using TF-IDF Feature Model"
   ]
  },
  {
   "cell_type": "code",
   "execution_count": 130,
   "metadata": {},
   "outputs": [],
   "source": [
    "vect = TfidfVectorizer()\n",
    "#vect = CountVectorizer(stop_words='english', ngram_range = (1,1), max_df = .80, min_df = 4)\n",
    "X_train, X_test, y_train, y_test = train_test_split(X,y,random_state=1, test_size= 0.2)\n",
    "#Using training data to transform text into counts of features for each message\n",
    "vect.fit(X_train)\n",
    "X_train_dtm = vect.transform(X_train) \n",
    "X_test_dtm = vect.transform(X_test)"
   ]
  },
  {
   "cell_type": "markdown",
   "metadata": {},
   "source": [
    "# Using Naive-Bayes "
   ]
  },
  {
   "cell_type": "code",
   "execution_count": 131,
   "metadata": {},
   "outputs": [
    {
     "name": "stdout",
     "output_type": "stream",
     "text": [
      "\n",
      "Naive Bayes\n",
      "Accuracy Score: 69.56521739130434%\n"
     ]
    }
   ],
   "source": [
    "NB = MultinomialNB()\n",
    "NB.fit(X_train_dtm, y_train)\n",
    "y_pred = NB.predict(X_test_dtm)\n",
    "print('\\nNaive Bayes')\n",
    "print('Accuracy Score: ',metrics.accuracy_score(y_test,y_pred)*100,'%',sep='')"
   ]
  },
  {
   "cell_type": "markdown",
   "metadata": {},
   "source": [
    "# Using K-neighbours Classifier"
   ]
  },
  {
   "cell_type": "code",
   "execution_count": 132,
   "metadata": {},
   "outputs": [],
   "source": [
    "from sklearn.neighbors import KNeighborsClassifier\n",
    "from sklearn import metrics\n",
    "krange=range(1,26)\n",
    "scores={}\n",
    "scorelist=[]\n",
    "for k in krange:\n",
    "    knn=KNeighborsClassifier(n_neighbors=k)\n",
    "    knn.fit(X_train_dtm,y_train)\n",
    "    y_pred=knn.predict(X_test_dtm)\n",
    "    scores[k]=metrics.accuracy_score(y_test,y_pred)\n",
    "    scorelist.append(metrics.accuracy_score(y_test,y_pred))"
   ]
  },
  {
   "cell_type": "code",
   "execution_count": 133,
   "metadata": {},
   "outputs": [
    {
     "name": "stdout",
     "output_type": "stream",
     "text": [
      "\n",
      "K Nearest Neighbors (NN = 8)\n",
      "Accuracy Score: 82.6086956521739%\n"
     ]
    }
   ],
   "source": [
    "KNN = KNeighborsClassifier(n_neighbors = 8) #At K=8\n",
    "KNN.fit(X_train_dtm, y_train)\n",
    "y_pred = KNN.predict(X_test_dtm)\n",
    "print('\\nK Nearest Neighbors (NN = 8)')\n",
    "print('Accuracy Score: ',metrics.accuracy_score(y_test,y_pred)*100,'%',sep='')"
   ]
  },
  {
   "cell_type": "markdown",
   "metadata": {},
   "source": [
    "# Using Support Vector Machines Classifier"
   ]
  },
  {
   "cell_type": "code",
   "execution_count": 134,
   "metadata": {},
   "outputs": [
    {
     "name": "stdout",
     "output_type": "stream",
     "text": [
      "\n",
      "Support Vector Machine\n",
      "Accuracy Score: 82.6086956521739%\n"
     ]
    }
   ],
   "source": [
    "SVM = LinearSVC()\n",
    "SVM.fit(X_train_dtm, y_train)\n",
    "y_pred = SVM.predict(X_test_dtm)\n",
    "print('\\nSupport Vector Machine')\n",
    "print('Accuracy Score: ',metrics.accuracy_score(y_test,y_pred)*100,'%',sep='')"
   ]
  },
  {
   "cell_type": "markdown",
   "metadata": {},
   "source": [
    "# Using Neural-Networks KERAS "
   ]
  },
  {
   "cell_type": "code",
   "execution_count": 135,
   "metadata": {},
   "outputs": [],
   "source": [
    "import keras\n",
    "from keras.models import Sequential\n",
    "from keras.layers import Dense, LSTM\n",
    "from keras.layers.embeddings import Embedding\n",
    "from keras.preprocessing import sequence\n",
    "from tensorflow.python.keras.preprocessing.text import Tokenizer\n",
    "import collections"
   ]
  },
  {
   "cell_type": "code",
   "execution_count": 136,
   "metadata": {},
   "outputs": [],
   "source": [
    "X1 = np.array(X)\n",
    "Y1 = np.array(y)\n",
    "\n",
    "max_fatures = 2000\n",
    "tokenizer = Tokenizer(num_words=max_fatures, split=' ')\n",
    "tokenizer.fit_on_texts(df['REVIEW'].values)\n",
    "X1 = tokenizer.texts_to_sequences(df['REVIEW'].values)\n",
    "X1 = pad_sequences(X1)"
   ]
  },
  {
   "cell_type": "code",
   "execution_count": 137,
   "metadata": {},
   "outputs": [
    {
     "name": "stdout",
     "output_type": "stream",
     "text": [
      "Model created.\n"
     ]
    }
   ],
   "source": [
    "\n",
    "max_words = 5000\n",
    "\n",
    "\n",
    "embedding_vector_length = 32\n",
    "\n",
    "# Define the layers in the model\n",
    "model = Sequential()\n",
    "model.add(Embedding(max_words, embedding_vector_length))\n",
    "model.add(LSTM(200))\n",
    "\n",
    "model.add(Dense(1, activation='sigmoid'))\n",
    "\n",
    "print(\"Model created.\")"
   ]
  },
  {
   "cell_type": "code",
   "execution_count": 138,
   "metadata": {},
   "outputs": [
    {
     "name": "stdout",
     "output_type": "stream",
     "text": [
      "Model compiled, ready to be fit to the training data.\n"
     ]
    }
   ],
   "source": [
    "model.compile(loss='binary_crossentropy', optimizer='adam', metrics=['accuracy'])\n",
    "\n",
    "print(\"Model compiled, ready to be fit to the training data.\")\n"
   ]
  },
  {
   "cell_type": "code",
   "execution_count": 139,
   "metadata": {},
   "outputs": [
    {
     "name": "stdout",
     "output_type": "stream",
     "text": [
      "_________________________________________________________________\n",
      "Layer (type)                 Output Shape              Param #   \n",
      "=================================================================\n",
      "embedding_7 (Embedding)      (None, None, 32)          160000    \n",
      "_________________________________________________________________\n",
      "lstm_7 (LSTM)                (None, 200)               186400    \n",
      "_________________________________________________________________\n",
      "dense_7 (Dense)              (None, 1)                 201       \n",
      "=================================================================\n",
      "Total params: 346,601\n",
      "Trainable params: 346,601\n",
      "Non-trainable params: 0\n",
      "_________________________________________________________________\n",
      "None\n"
     ]
    }
   ],
   "source": [
    "print(model.summary())"
   ]
  },
  {
   "cell_type": "code",
   "execution_count": 140,
   "metadata": {},
   "outputs": [],
   "source": [
    "X_train,X_test,y_train,y_test=train_test_split(X1,y,test_size=0.25,)"
   ]
  },
  {
   "cell_type": "code",
   "execution_count": 141,
   "metadata": {},
   "outputs": [
    {
     "name": "stdout",
     "output_type": "stream",
     "text": [
      "Epoch 1/50\n",
      "86/86 [==============================] - 2s 19ms/step - loss: 0.6921 - acc: 0.5349\n",
      "Epoch 2/50\n",
      "86/86 [==============================] - 0s 1ms/step - loss: 0.6896 - acc: 0.5465\n",
      "Epoch 3/50\n",
      "86/86 [==============================] - 0s 1ms/step - loss: 0.6859 - acc: 0.5465\n",
      "Epoch 4/50\n",
      "86/86 [==============================] - 0s 1ms/step - loss: 0.6830 - acc: 0.5465\n",
      "Epoch 5/50\n",
      "86/86 [==============================] - 0s 2ms/step - loss: 0.6804 - acc: 0.5465\n",
      "Epoch 6/50\n",
      "86/86 [==============================] - 0s 2ms/step - loss: 0.6781 - acc: 0.5465\n",
      "Epoch 7/50\n",
      "86/86 [==============================] - 0s 1ms/step - loss: 0.6739 - acc: 0.5465\n",
      "Epoch 8/50\n",
      "86/86 [==============================] - 0s 1ms/step - loss: 0.6697 - acc: 0.5465\n",
      "Epoch 9/50\n",
      "86/86 [==============================] - 0s 2ms/step - loss: 0.6625 - acc: 0.5465\n",
      "Epoch 10/50\n",
      "86/86 [==============================] - 0s 2ms/step - loss: 0.6543 - acc: 0.5465\n",
      "Epoch 11/50\n",
      "86/86 [==============================] - 0s 1ms/step - loss: 0.6462 - acc: 0.5930\n",
      "Epoch 12/50\n",
      "86/86 [==============================] - 0s 1ms/step - loss: 0.6349 - acc: 0.6977\n",
      "Epoch 13/50\n",
      "86/86 [==============================] - 0s 2ms/step - loss: 0.6214 - acc: 0.7326\n",
      "Epoch 14/50\n",
      "86/86 [==============================] - 0s 2ms/step - loss: 0.6028 - acc: 0.7558\n",
      "Epoch 15/50\n",
      "86/86 [==============================] - 0s 1ms/step - loss: 0.5815 - acc: 0.7907\n",
      "Epoch 16/50\n",
      "86/86 [==============================] - 0s 3ms/step - loss: 0.5575 - acc: 0.8140\n",
      "Epoch 17/50\n",
      "86/86 [==============================] - 0s 1ms/step - loss: 0.5357 - acc: 0.7791\n",
      "Epoch 18/50\n",
      "86/86 [==============================] - 0s 2ms/step - loss: 0.5031 - acc: 0.8372\n",
      "Epoch 19/50\n",
      "86/86 [==============================] - 0s 1ms/step - loss: 0.4925 - acc: 0.9070\n",
      "Epoch 20/50\n",
      "86/86 [==============================] - 0s 1ms/step - loss: 0.4727 - acc: 0.9302\n",
      "Epoch 21/50\n",
      "86/86 [==============================] - 0s 2ms/step - loss: 0.4533 - acc: 0.9070\n",
      "Epoch 22/50\n",
      "86/86 [==============================] - 0s 2ms/step - loss: 0.4278 - acc: 0.9070\n",
      "Epoch 23/50\n",
      "86/86 [==============================] - 0s 3ms/step - loss: 0.4017 - acc: 0.9070\n",
      "Epoch 24/50\n",
      "86/86 [==============================] - 0s 2ms/step - loss: 0.3722 - acc: 0.9070\n",
      "Epoch 25/50\n",
      "86/86 [==============================] - 0s 1ms/step - loss: 0.3455 - acc: 0.9070\n",
      "Epoch 26/50\n",
      "86/86 [==============================] - 0s 1ms/step - loss: 0.3172 - acc: 0.9070\n",
      "Epoch 27/50\n",
      "86/86 [==============================] - 0s 2ms/step - loss: 0.2891 - acc: 0.9070\n",
      "Epoch 28/50\n",
      "86/86 [==============================] - 0s 2ms/step - loss: 0.2575 - acc: 0.9070\n",
      "Epoch 29/50\n",
      "86/86 [==============================] - 0s 2ms/step - loss: 0.2306 - acc: 0.9070\n",
      "Epoch 30/50\n",
      "86/86 [==============================] - 0s 2ms/step - loss: 0.2039 - acc: 0.9419\n",
      "Epoch 31/50\n",
      "86/86 [==============================] - 0s 2ms/step - loss: 0.1744 - acc: 0.9767\n",
      "Epoch 32/50\n",
      "86/86 [==============================] - 0s 1ms/step - loss: 0.1420 - acc: 0.9535\n",
      "Epoch 33/50\n",
      "86/86 [==============================] - 0s 1ms/step - loss: 0.0994 - acc: 0.9535\n",
      "Epoch 34/50\n",
      "86/86 [==============================] - 0s 1ms/step - loss: 0.1104 - acc: 0.9884\n",
      "Epoch 35/50\n",
      "86/86 [==============================] - 0s 2ms/step - loss: 0.1032 - acc: 0.9884\n",
      "Epoch 36/50\n",
      "86/86 [==============================] - 0s 2ms/step - loss: 0.0730 - acc: 0.9884\n",
      "Epoch 37/50\n",
      "86/86 [==============================] - 0s 1ms/step - loss: 0.0655 - acc: 0.9767\n",
      "Epoch 38/50\n",
      "86/86 [==============================] - 0s 1ms/step - loss: 0.0607 - acc: 0.9884\n",
      "Epoch 39/50\n",
      "86/86 [==============================] - 0s 2ms/step - loss: 0.0430 - acc: 0.9884\n",
      "Epoch 40/50\n",
      "86/86 [==============================] - 0s 2ms/step - loss: 0.1547 - acc: 0.9535\n",
      "Epoch 41/50\n",
      "86/86 [==============================] - 0s 1ms/step - loss: 0.0884 - acc: 0.9884\n",
      "Epoch 42/50\n",
      "86/86 [==============================] - 0s 1ms/step - loss: 0.1124 - acc: 0.9767\n",
      "Epoch 43/50\n",
      "86/86 [==============================] - 0s 2ms/step - loss: 0.1112 - acc: 0.9884\n",
      "Epoch 44/50\n",
      "86/86 [==============================] - 0s 2ms/step - loss: 0.1049 - acc: 0.9884\n",
      "Epoch 45/50\n",
      "86/86 [==============================] - 0s 2ms/step - loss: 0.0967 - acc: 0.9884\n",
      "Epoch 46/50\n",
      "86/86 [==============================] - 0s 2ms/step - loss: 0.0879 - acc: 0.9884\n",
      "Epoch 47/50\n",
      "86/86 [==============================] - 0s 1ms/step - loss: 0.0807 - acc: 0.9884\n",
      "Epoch 48/50\n",
      "86/86 [==============================] - 0s 2ms/step - loss: 0.0726 - acc: 0.9884\n",
      "Epoch 49/50\n",
      "86/86 [==============================] - 0s 2ms/step - loss: 0.0650 - acc: 0.9884\n",
      "Epoch 50/50\n",
      "86/86 [==============================] - 0s 1ms/step - loss: 0.0589 - acc: 0.9884\n"
     ]
    },
    {
     "data": {
      "text/plain": [
       "<keras.callbacks.History at 0x7f5d903f7470>"
      ]
     },
     "execution_count": 141,
     "metadata": {},
     "output_type": "execute_result"
    }
   ],
   "source": [
    "model.fit(X_train, y_train, epochs=50, batch_size=64)\n"
   ]
  },
  {
   "cell_type": "code",
   "execution_count": 142,
   "metadata": {},
   "outputs": [
    {
     "name": "stdout",
     "output_type": "stream",
     "text": [
      "Model accuracy on the test dataset: 65.52%\n"
     ]
    }
   ],
   "source": [
    "\n",
    "model_scores = model.evaluate(X_test, y_test, verbose=0)\n",
    "\n",
    "# Print out the accuracy of the model on the test set\n",
    "print(\"Model accuracy on the test dataset: {0:.2f}%\".format(model_scores[1]*100))"
   ]
  },
  {
   "cell_type": "code",
   "execution_count": null,
   "metadata": {},
   "outputs": [],
   "source": []
  },
  {
   "cell_type": "code",
   "execution_count": null,
   "metadata": {},
   "outputs": [],
   "source": []
  }
 ],
 "metadata": {
  "kernelspec": {
   "display_name": "Python 3",
   "language": "python",
   "name": "python3"
  },
  "language_info": {
   "codemirror_mode": {
    "name": "ipython",
    "version": 3
   },
   "file_extension": ".py",
   "mimetype": "text/x-python",
   "name": "python",
   "nbconvert_exporter": "python",
   "pygments_lexer": "ipython3",
   "version": "3.6.5"
  }
 },
 "nbformat": 4,
 "nbformat_minor": 2
}
